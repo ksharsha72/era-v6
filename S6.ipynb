{
 "cells": [
  {
   "cell_type": "code",
   "execution_count": 1,
   "metadata": {},
   "outputs": [],
   "source": [
    "from __future__ import print_function\n",
    "import torch\n",
    "import torch.nn as nn\n",
    "import torch.nn.functional as F\n",
    "import torch.optim as optim\n",
    "from torchvision import datasets, transforms\n"
   ]
  },
  {
   "cell_type": "code",
   "execution_count": 2,
   "metadata": {},
   "outputs": [
    {
     "name": "stdout",
     "output_type": "stream",
     "text": [
      "True\n"
     ]
    }
   ],
   "source": [
    "use_cuda = torch.cuda.is_available()\n",
    "print(use_cuda)\n",
    "torch.manual_seed(1)\n",
    "batch_size = 128\n",
    "\n",
    "kwargs = {'num_workers': 1, 'pin_memory': True} if use_cuda else {}\n",
    "train_loader = torch.utils.data.DataLoader(\n",
    "    datasets.MNIST('../data', train=True, download=True,\n",
    "                    transform=transforms.Compose([\n",
    "                        transforms.ToTensor(),\n",
    "                        transforms.RandomCrop(size=28),\n",
    "                        transforms.RandomRotation(degrees=7, fill=1),\n",
    "                        # transforms.RandomAffine(degrees=20, translate=(0.1,0.1), scale=(0.9, 1.1)),\n",
    "                        transforms.ColorJitter(brightness=0.2, contrast=0.2),\n",
    "                        transforms.Normalize((0.1307,), (0.3081,)), \n",
    "                        \n",
    "                    ])),\n",
    "    batch_size=batch_size, shuffle=True, **kwargs)\n",
    "test_loader = torch.utils.data.DataLoader(\n",
    "    datasets.MNIST('../data', train=False, transform=transforms.Compose([\n",
    "                        transforms.ToTensor(),\n",
    "                        transforms.Normalize((0.1307,), (0.3081,))\n",
    "                    ])),\n",
    "    batch_size=batch_size, shuffle=True, **kwargs)\n",
    "train_iter = iter(train_loader)\n"
   ]
  },
  {
   "cell_type": "code",
   "execution_count": 3,
   "metadata": {},
   "outputs": [
    {
     "data": {
      "text/plain": [
       "Text(0.5, 0, '4')"
      ]
     },
     "execution_count": 3,
     "metadata": {},
     "output_type": "execute_result"
    },
    {
     "data": {
      "image/png": "[encoded data removed]",
      "text/plain": [
       "<Figure size 640x480 with 1 Axes>"
      ]
     },
     "metadata": {},
     "output_type": "display_data"
    }
   ],
   "source": [
    "\n",
    "batch_data = next(train_iter)\n",
    "imgs, labels = batch_data \n",
    "import matplotlib.pyplot as plt\n",
    "plt.imshow(imgs[0].cpu().numpy().reshape((28,28)), cmap=\"gray\")\n",
    "plt.xlabel(labels[0].item())"
   ]
  },
  {
   "cell_type": "code",
   "execution_count": 4,
   "metadata": {},
   "outputs": [],
   "source": [
    "from model2 import Model"
   ]
  },
  {
   "cell_type": "code",
   "execution_count": 5,
   "metadata": {},
   "outputs": [
    {
     "name": "stdout",
     "output_type": "stream",
     "text": [
      "Defaulting to user installation because normal site-packages is not writeable\n",
      "Requirement already satisfied: torchsummary in c:\\users\\sriharsha\\appdata\\roaming\\python\\python39\\site-packages (1.5.1)\n",
      "----------------------------------------------------------------\n",
      "        Layer (type)               Output Shape         Param #\n",
      "================================================================\n",
      "            Conv2d-1            [-1, 8, 28, 28]              80\n",
      "              ReLU-2            [-1, 8, 28, 28]               0\n",
      "       BatchNorm2d-3            [-1, 8, 28, 28]              16\n",
      "           Dropout-4            [-1, 8, 28, 28]               0\n",
      "            Conv2d-5            [-1, 8, 28, 28]             584\n",
      "              ReLU-6            [-1, 8, 28, 28]               0\n",
      "       BatchNorm2d-7            [-1, 8, 28, 28]              16\n",
      "           Dropout-8            [-1, 8, 28, 28]               0\n",
      "            Conv2d-9           [-1, 10, 28, 28]             730\n",
      "             ReLU-10           [-1, 10, 28, 28]               0\n",
      "      BatchNorm2d-11           [-1, 10, 28, 28]              20\n",
      "          Dropout-12           [-1, 10, 28, 28]               0\n",
      "        MaxPool2d-13           [-1, 10, 14, 14]               0\n",
      "           Conv2d-14            [-1, 6, 14, 14]              66\n",
      "           Conv2d-15            [-1, 8, 14, 14]             440\n",
      "             ReLU-16            [-1, 8, 14, 14]               0\n",
      "      BatchNorm2d-17            [-1, 8, 14, 14]              16\n",
      "          Dropout-18            [-1, 8, 14, 14]               0\n",
      "           Conv2d-19           [-1, 12, 14, 14]             876\n",
      "             ReLU-20           [-1, 12, 14, 14]               0\n",
      "      BatchNorm2d-21           [-1, 12, 14, 14]              24\n",
      "          Dropout-22           [-1, 12, 14, 14]               0\n",
      "        MaxPool2d-23             [-1, 12, 7, 7]               0\n",
      "           Conv2d-24             [-1, 10, 7, 7]             130\n",
      "           Conv2d-25             [-1, 10, 7, 7]             910\n",
      "      BatchNorm2d-26             [-1, 10, 7, 7]              20\n",
      "             ReLU-27             [-1, 10, 7, 7]               0\n",
      "          Dropout-28             [-1, 10, 7, 7]               0\n",
      "           Conv2d-29             [-1, 10, 7, 7]             910\n",
      "      BatchNorm2d-30             [-1, 10, 7, 7]              20\n",
      "             ReLU-31             [-1, 10, 7, 7]               0\n",
      "          Dropout-32             [-1, 10, 7, 7]               0\n",
      "           Linear-33                   [-1, 10]           4,910\n",
      "================================================================\n",
      "Total params: 9,768\n",
      "Trainable params: 9,768\n",
      "Non-trainable params: 0\n",
      "----------------------------------------------------------------\n",
      "Input size (MB): 0.00\n",
      "Forward/backward pass size (MB): 0.80\n",
      "Params size (MB): 0.04\n",
      "Estimated Total Size (MB): 0.84\n",
      "----------------------------------------------------------------\n"
     ]
    },
    {
     "name": "stderr",
     "output_type": "stream",
     "text": [
      "c:\\Users\\Sriharsha\\Documents\\ERA-V6\\model2.py:92: UserWarning: Implicit dimension choice for log_softmax has been deprecated. Change the call to include dim=X as an argument.\n",
      "  return F.log_softmax(x)\n"
     ]
    }
   ],
   "source": [
    "!pip install torchsummary\n",
    "from torchsummary import summary\n",
    "use_cuda = torch.cuda.is_available()\n",
    "device = torch.device(\"cuda\" if use_cuda else \"cpu\")\n",
    "model = Model().to(device)\n",
    "summary(model, input_size=(1, 28, 28))"
   ]
  },
  {
   "cell_type": "code",
   "execution_count": 6,
   "metadata": {},
   "outputs": [],
   "source": [
    "from tqdm import tqdm\n",
    "def train(model, device, train_loader, optimizer, epoch):\n",
    "    model.train()\n",
    "    pbar = tqdm(train_loader)\n",
    "    for batch_idx, (data, target) in enumerate(pbar):\n",
    "        data, target = data.to(device), target.to(device)\n",
    "        optimizer.zero_grad()\n",
    "        output = model(data)\n",
    "        loss = F.nll_loss(output, target)\n",
    "        loss.backward()\n",
    "        optimizer.step()\n",
    "        pbar.set_description(desc= f'loss={loss.item()} batch_id={batch_idx}')\n",
    "\n",
    "\n",
    "def test(model, device, test_loader):\n",
    "    model.eval()\n",
    "    test_loss = 0\n",
    "    correct = 0\n",
    "    with torch.no_grad():\n",
    "        for data, target in test_loader:\n",
    "            data, target = data.to(device), target.to(device)\n",
    "            output = model(data)\n",
    "            test_loss += F.nll_loss(output, target, reduction='sum').item()  # sum up batch loss\n",
    "            pred = output.argmax(dim=1, keepdim=True)  # get the index of the max log-probability\n",
    "            correct += pred.eq(target.view_as(pred)).sum().item()\n",
    "\n",
    "    test_loss /= len(test_loader.dataset)\n",
    "\n",
    "    print('\\nTest set: Average loss: {:.4f}, Accuracy: {}/{} ({:.2f}%)\\n'.format(\n",
    "        test_loss, correct, len(test_loader.dataset),\n",
    "        100. * correct / len(test_loader.dataset)))"
   ]
  },
  {
   "cell_type": "code",
   "execution_count": 7,
   "metadata": {},
   "outputs": [
    {
     "name": "stderr",
     "output_type": "stream",
     "text": [
      "  0%|          | 0/469 [00:00<?, ?it/s]"
     ]
    },
    {
     "name": "stderr",
     "output_type": "stream",
     "text": [
      "loss=0.17645913362503052 batch_id=468: 100%|██████████| 469/469 [00:50<00:00,  9.20it/s] \n"
     ]
    },
    {
     "name": "stdout",
     "output_type": "stream",
     "text": [
      "\n",
      "Test set: Average loss: 0.0730, Accuracy: 9774/10000 (97.74%)\n",
      "\n"
     ]
    },
    {
     "name": "stderr",
     "output_type": "stream",
     "text": [
      "loss=0.05226840451359749 batch_id=468: 100%|██████████| 469/469 [00:50<00:00,  9.28it/s] \n"
     ]
    },
    {
     "name": "stdout",
     "output_type": "stream",
     "text": [
      "\n",
      "Test set: Average loss: 0.0388, Accuracy: 9878/10000 (98.78%)\n",
      "\n"
     ]
    },
    {
     "name": "stderr",
     "output_type": "stream",
     "text": [
      "loss=0.08491190522909164 batch_id=468: 100%|██████████| 469/469 [00:50<00:00,  9.28it/s] \n"
     ]
    },
    {
     "name": "stdout",
     "output_type": "stream",
     "text": [
      "\n",
      "Test set: Average loss: 0.0408, Accuracy: 9876/10000 (98.76%)\n",
      "\n"
     ]
    },
    {
     "name": "stderr",
     "output_type": "stream",
     "text": [
      "loss=0.051124002784490585 batch_id=468: 100%|██████████| 469/469 [00:50<00:00,  9.28it/s]\n"
     ]
    },
    {
     "name": "stdout",
     "output_type": "stream",
     "text": [
      "\n",
      "Test set: Average loss: 0.0289, Accuracy: 9910/10000 (99.10%)\n",
      "\n"
     ]
    },
    {
     "name": "stderr",
     "output_type": "stream",
     "text": [
      "loss=0.0842355489730835 batch_id=468: 100%|██████████| 469/469 [00:50<00:00,  9.35it/s]  \n"
     ]
    },
    {
     "name": "stdout",
     "output_type": "stream",
     "text": [
      "\n",
      "Test set: Average loss: 0.0224, Accuracy: 9933/10000 (99.33%)\n",
      "\n"
     ]
    },
    {
     "name": "stderr",
     "output_type": "stream",
     "text": [
      "loss=0.06474775075912476 batch_id=468: 100%|██████████| 469/469 [00:49<00:00,  9.40it/s] \n"
     ]
    },
    {
     "name": "stdout",
     "output_type": "stream",
     "text": [
      "\n",
      "Test set: Average loss: 0.0337, Accuracy: 9904/10000 (99.04%)\n",
      "\n"
     ]
    },
    {
     "name": "stderr",
     "output_type": "stream",
     "text": [
      "loss=0.027794569730758667 batch_id=468: 100%|██████████| 469/469 [00:49<00:00,  9.43it/s]\n"
     ]
    },
    {
     "name": "stdout",
     "output_type": "stream",
     "text": [
      "\n",
      "Test set: Average loss: 0.0247, Accuracy: 9924/10000 (99.24%)\n",
      "\n"
     ]
    },
    {
     "name": "stderr",
     "output_type": "stream",
     "text": [
      "loss=0.004300772678107023 batch_id=468: 100%|██████████| 469/469 [00:49<00:00,  9.50it/s] \n"
     ]
    },
    {
     "name": "stdout",
     "output_type": "stream",
     "text": [
      "\n",
      "Test set: Average loss: 0.0216, Accuracy: 9934/10000 (99.34%)\n",
      "\n"
     ]
    },
    {
     "name": "stderr",
     "output_type": "stream",
     "text": [
      "loss=0.04587597772479057 batch_id=468: 100%|██████████| 469/469 [00:50<00:00,  9.26it/s]  \n"
     ]
    },
    {
     "name": "stdout",
     "output_type": "stream",
     "text": [
      "\n",
      "Test set: Average loss: 0.0207, Accuracy: 9936/10000 (99.36%)\n",
      "\n"
     ]
    },
    {
     "name": "stderr",
     "output_type": "stream",
     "text": [
      "loss=0.03630325570702553 batch_id=468: 100%|██████████| 469/469 [00:50<00:00,  9.28it/s]  \n"
     ]
    },
    {
     "name": "stdout",
     "output_type": "stream",
     "text": [
      "\n",
      "Test set: Average loss: 0.0202, Accuracy: 9930/10000 (99.30%)\n",
      "\n"
     ]
    },
    {
     "name": "stderr",
     "output_type": "stream",
     "text": [
      "loss=0.024780260398983955 batch_id=468: 100%|██████████| 469/469 [42:31<00:00,  5.44s/it]   \n"
     ]
    },
    {
     "name": "stdout",
     "output_type": "stream",
     "text": [
      "\n",
      "Test set: Average loss: 0.0203, Accuracy: 9937/10000 (99.37%)\n",
      "\n"
     ]
    },
    {
     "name": "stderr",
     "output_type": "stream",
     "text": [
      "loss=0.042807210236787796 batch_id=468: 100%|██████████| 469/469 [00:53<00:00,  8.83it/s] \n"
     ]
    },
    {
     "name": "stdout",
     "output_type": "stream",
     "text": [
      "\n",
      "Test set: Average loss: 0.0224, Accuracy: 9921/10000 (99.21%)\n",
      "\n"
     ]
    },
    {
     "name": "stderr",
     "output_type": "stream",
     "text": [
      "loss=0.05138729140162468 batch_id=468: 100%|██████████| 469/469 [00:52<00:00,  8.86it/s] \n"
     ]
    },
    {
     "name": "stdout",
     "output_type": "stream",
     "text": [
      "\n",
      "Test set: Average loss: 0.0259, Accuracy: 9917/10000 (99.17%)\n",
      "\n"
     ]
    },
    {
     "name": "stderr",
     "output_type": "stream",
     "text": [
      "loss=0.02268470823764801 batch_id=468: 100%|██████████| 469/469 [00:50<00:00,  9.21it/s]  \n"
     ]
    },
    {
     "name": "stdout",
     "output_type": "stream",
     "text": [
      "\n",
      "Test set: Average loss: 0.0204, Accuracy: 9937/10000 (99.37%)\n",
      "\n"
     ]
    },
    {
     "name": "stderr",
     "output_type": "stream",
     "text": [
      "loss=0.02781677432358265 batch_id=468: 100%|██████████| 469/469 [00:54<00:00,  8.68it/s]  \n"
     ]
    },
    {
     "name": "stdout",
     "output_type": "stream",
     "text": [
      "\n",
      "Test set: Average loss: 0.0210, Accuracy: 9927/10000 (99.27%)\n",
      "\n"
     ]
    },
    {
     "name": "stderr",
     "output_type": "stream",
     "text": [
      "loss=0.0376250185072422 batch_id=468: 100%|██████████| 469/469 [00:51<00:00,  9.13it/s]   \n"
     ]
    },
    {
     "name": "stdout",
     "output_type": "stream",
     "text": [
      "\n",
      "Test set: Average loss: 0.0201, Accuracy: 9931/10000 (99.31%)\n",
      "\n"
     ]
    },
    {
     "name": "stderr",
     "output_type": "stream",
     "text": [
      "loss=0.008112812414765358 batch_id=468: 100%|██████████| 469/469 [00:51<00:00,  9.09it/s] \n"
     ]
    },
    {
     "name": "stdout",
     "output_type": "stream",
     "text": [
      "\n",
      "Test set: Average loss: 0.0177, Accuracy: 9940/10000 (99.40%)\n",
      "\n"
     ]
    },
    {
     "name": "stderr",
     "output_type": "stream",
     "text": [
      "loss=0.08848843723535538 batch_id=468: 100%|██████████| 469/469 [00:51<00:00,  9.18it/s]  \n"
     ]
    },
    {
     "name": "stdout",
     "output_type": "stream",
     "text": [
      "\n",
      "Test set: Average loss: 0.0184, Accuracy: 9934/10000 (99.34%)\n",
      "\n"
     ]
    },
    {
     "name": "stderr",
     "output_type": "stream",
     "text": [
      "loss=0.047666534781455994 batch_id=468: 100%|██████████| 469/469 [00:55<00:00,  8.44it/s] \n"
     ]
    },
    {
     "name": "stdout",
     "output_type": "stream",
     "text": [
      "\n",
      "Test set: Average loss: 0.0211, Accuracy: 9930/10000 (99.30%)\n",
      "\n"
     ]
    }
   ],
   "source": [
    "\n",
    "model = Model().to(device)\n",
    "optimizer = optim.SGD(model.parameters(), lr=0.03, momentum=0.9)\n",
    "\n",
    "for epoch in range(1, 20):\n",
    "    train(model, device, train_loader, optimizer, epoch)\n",
    "    test(model, device, test_loader)"
   ]
  },
  {
   "cell_type": "code",
   "execution_count": null,
   "metadata": {},
   "outputs": [],
   "source": []
  },
  {
   "cell_type": "code",
   "execution_count": 8,
   "metadata": {},
   "outputs": [],
   "source": [
    "dropout_value = 0.05\n",
    "class Model2(nn.Module):\n",
    "    def __init__(self, *args, **kwargs):\n",
    "        super().__init__(*args, **kwargs)\n",
    "\n",
    "        # rin: 1, rout: 3, in_size: 28, out_size:28\n",
    "        self.conv1 = nn.Sequential(\n",
    "            nn.Conv2d(1, 4, 3, padding=1),\n",
    "            nn.ReLU(),\n",
    "            nn.BatchNorm2d(4),\n",
    "            nn.Dropout(dropout_value)\n",
    "        )\n",
    "\n",
    "        # rin: 3, rout: 5, in_size: 28, out_size:28\n",
    "        self.conv2 = nn.Sequential(\n",
    "            nn.Conv2d(4, 8, 3, padding=1),\n",
    "            nn.ReLU(),\n",
    "            nn.BatchNorm2d(8),\n",
    "            nn.Dropout(dropout_value)\n",
    "        )\n",
    "\n",
    "        # rin: 5, rout: 6, in_size: 14, out_size:14\n",
    "        self.pool1 = nn.MaxPool2d(2,2)\n",
    "        self.ant1 = nn.Conv2d(8, 4, 1)\n",
    "\n",
    "        # rin: 6, rout: 10, in_size: 14, out_size:12\n",
    "        self.conv3 = nn.Sequential(nn.Conv2d(4, 6, 3),\n",
    "                                    nn.ReLU(),\n",
    "                                    nn.BatchNorm2d(6),\n",
    "                                    nn.Dropout(dropout_value)\n",
    "                                    )\n",
    "        \n",
    "        # rin: 10, rout: 14, in_size: 14, out_size:10\n",
    "        self.conv4 = nn.Sequential(nn.Conv2d(6, 8, 3),\n",
    "                                    nn.ReLU(),\n",
    "                                    nn.BatchNorm2d(8),\n",
    "                                    nn.Dropout(dropout_value)\n",
    "                                    )\n",
    "     \n",
    "\n",
    "        # rin: 14, rout: 18, in_size: 14, out_size:8\n",
    "        self.conv5 = nn.Sequential(nn.Conv2d(8, 10, 3),\n",
    "                                nn.ReLU(),\n",
    "                                nn.BatchNorm2d(10),\n",
    "                                nn.Dropout(dropout_value)\n",
    "                                )\n",
    "        \n",
    "                # rin: 18, rout: 22, in_size: 12, out_size:6\n",
    "        self.conv6 = nn.Sequential(nn.Conv2d(10, 10, 3),\n",
    "                                nn.ReLU(),\n",
    "                                nn.BatchNorm2d(10),\n",
    "                                nn.Dropout(dropout_value)\n",
    "                                )\n",
    "        \n",
    "             # rin: 22, rout: 26, in_size: 10, out_size:4\n",
    "        self.conv7 = nn.Sequential(nn.Conv2d(10, 10, 3),\n",
    "                                nn.ReLU(),\n",
    "                                nn.BatchNorm2d(10),\n",
    "                                nn.Dropout(dropout_value)\n",
    "                                )\n",
    "        \n",
    "        \n",
    "        # rin: 24, rout: 32, in_size: 8, out_size:2\n",
    "        self.conv8 = nn.Sequential(nn.Conv2d(10, 10, 3),nn.BatchNorm2d(10),nn.ReLU(), nn.Dropout(dropout_value))\n",
    "        self.linear = nn.Linear(10*2*2,10)\n",
    "\n",
    "    def forward(self, x):\n",
    "        x = self.conv1(x)\n",
    "        x = self.conv2(x)\n",
    "        x = self.pool1(x)\n",
    "        x = self.ant1(x)\n",
    "        x = self.conv3(x)\n",
    "        x = self.conv4(x)\n",
    "        x = self.conv5(x)\n",
    "        x = self.conv6(x)\n",
    "        x = self.conv7(x)\n",
    "        x = self.conv8(x)\n",
    "        x = x.view(-1,10*2*2)\n",
    "        x = self.linear(x)\n",
    "        return F.log_softmax(x)\n",
    "      \n"
   ]
  },
  {
   "cell_type": "code",
   "execution_count": 9,
   "metadata": {},
   "outputs": [],
   "source": [
    "\n",
    "# !pip install torchsummary\n",
    "# from torchsummary import summary\n",
    "# use_cuda = torch.cuda.is_available()\n",
    "# device = torch.device(\"cuda\" if use_cuda else \"cpu\")\n",
    "# model = Model2().to(device)\n",
    "# summary(model, input_size=(1, 28, 28))"
   ]
  },
  {
   "cell_type": "code",
   "execution_count": 10,
   "metadata": {},
   "outputs": [],
   "source": [
    "\n",
    "# model = Model2().to(device)\n",
    "# optimizer = optim.SGD(model.parameters(), lr=0.04, momentum=0.9)\n",
    "\n",
    "# for epoch in range(1, 10):\n",
    "#     train(model, device, train_loader, optimizer, epoch)\n",
    "#     test(model, device, test_loader)"
   ]
  },
  {
   "cell_type": "code",
   "execution_count": null,
   "metadata": {},
   "outputs": [],
   "source": []
  }
 ],
 "metadata": {
  "kernelspec": {
   "display_name": "Python 3",
   "language": "python",
   "name": "python3"
  },
  "language_info": {
   "codemirror_mode": {
    "name": "ipython",
    "version": 3
   },
   "file_extension": ".py",
   "mimetype": "text/x-python",
   "name": "python",
   "nbconvert_exporter": "python",
   "pygments_lexer": "ipython3",
   "version": "3.9.9"
  }
 },
 "nbformat": 4,
 "nbformat_minor": 2
}
